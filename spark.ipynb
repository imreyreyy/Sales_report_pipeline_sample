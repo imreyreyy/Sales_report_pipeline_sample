{
 "cells": [
  {
   "cell_type": "code",
   "execution_count": 1,
   "id": "7167275e",
   "metadata": {},
   "outputs": [],
   "source": [
    "import findspark\n",
    "findspark.init()\n",
    "\n",
    "from pyspark.sql import SparkSession\n",
    "from pyspark.sql.functions import year, to_date, col\n",
    "\n",
    "spark = SparkSession.builder \\\n",
    "    .appName(\"MyApp\") \\\n",
    "    .master(\"local\") \\\n",
    "    .getOrCreate()\n"
   ]
  },
  {
   "cell_type": "code",
   "execution_count": 2,
   "id": "a971b853",
   "metadata": {},
   "outputs": [],
   "source": [
    "##Get the schemas\n",
    "\n",
    "import json\n",
    "\n",
    "file_path = 'data/retail_db/schemas.json'\n",
    "schemas = json.load(open(file_path))"
   ]
  },
  {
   "cell_type": "code",
   "execution_count": 3,
   "id": "e321910d",
   "metadata": {},
   "outputs": [],
   "source": [
    "## Function to get the columnNames\n",
    "\n",
    "def get_column_names(schemas, dsName):\n",
    "    column_details = schemas[dsName]\n",
    "    sorted_column = sorted(column_details, key= lambda col : col['column_position'])\n",
    "    return [column['column_name'] for column in sorted_column]"
   ]
  },
  {
   "cell_type": "code",
   "execution_count": 4,
   "id": "45d042fe",
   "metadata": {},
   "outputs": [],
   "source": [
    "## Define Column Schema\n",
    "\n",
    "customers_column =get_column_names(schemas,'customers')\n",
    "order_colum = get_column_names(schemas,'orders')\n",
    "order_item_column = get_column_names(schemas,'order_items')"
   ]
  },
  {
   "cell_type": "code",
   "execution_count": 5,
   "id": "c2c2914b",
   "metadata": {},
   "outputs": [],
   "source": [
    "### Read the sources\n",
    "\n",
    "##customer\n",
    "customerDataset = spark.read.option('header','false').csv('data/retail_db/customers/').toDF(*customers_column)\n",
    "##orders\n",
    "ordersDataset = spark.read.option('header','false').csv('data/retail_db/orders/').toDF(*order_colum)\n",
    "#order_items\n",
    "orderItemDataset = spark.read.option('header','false').csv('data/retail_db/order_items/').toDF(*order_item_column)\n"
   ]
  },
  {
   "cell_type": "code",
   "execution_count": 6,
   "id": "3c43ca33",
   "metadata": {},
   "outputs": [
    {
     "name": "stdout",
     "output_type": "stream",
     "text": [
      "+--------+--------------------+-----------------+---------------+---------+\n",
      "|order_id|          order_date|order_customer_id|   order_status|year_date|\n",
      "+--------+--------------------+-----------------+---------------+---------+\n",
      "|       1|2013-07-25 00:00:...|            11599|         CLOSED|     2013|\n",
      "|       2|2013-07-25 00:00:...|              256|PENDING_PAYMENT|     2013|\n",
      "|       3|2013-07-25 00:00:...|            12111|       COMPLETE|     2013|\n",
      "|       4|2013-07-25 00:00:...|             8827|         CLOSED|     2013|\n",
      "|       5|2013-07-25 00:00:...|            11318|       COMPLETE|     2013|\n",
      "|       6|2013-07-25 00:00:...|             7130|       COMPLETE|     2013|\n",
      "|       7|2013-07-25 00:00:...|             4530|       COMPLETE|     2013|\n",
      "|       8|2013-07-25 00:00:...|             2911|     PROCESSING|     2013|\n",
      "|       9|2013-07-25 00:00:...|             5657|PENDING_PAYMENT|     2013|\n",
      "|      10|2013-07-25 00:00:...|             5648|PENDING_PAYMENT|     2013|\n",
      "|      11|2013-07-25 00:00:...|              918| PAYMENT_REVIEW|     2013|\n",
      "|      12|2013-07-25 00:00:...|             1837|         CLOSED|     2013|\n",
      "|      13|2013-07-25 00:00:...|             9149|PENDING_PAYMENT|     2013|\n",
      "|      14|2013-07-25 00:00:...|             9842|     PROCESSING|     2013|\n",
      "|      15|2013-07-25 00:00:...|             2568|       COMPLETE|     2013|\n",
      "|      16|2013-07-25 00:00:...|             7276|PENDING_PAYMENT|     2013|\n",
      "|      17|2013-07-25 00:00:...|             2667|       COMPLETE|     2013|\n",
      "|      18|2013-07-25 00:00:...|             1205|         CLOSED|     2013|\n",
      "|      19|2013-07-25 00:00:...|             9488|PENDING_PAYMENT|     2013|\n",
      "|      20|2013-07-25 00:00:...|             9198|     PROCESSING|     2013|\n",
      "+--------+--------------------+-----------------+---------------+---------+\n",
      "only showing top 20 rows\n",
      "\n"
     ]
    }
   ],
   "source": [
    "ordersDataset = ordersDataset.withColumn(\"year_date\", year(to_date(\"order_date\"))) \\\n",
    "                             .filter(col(\"year_date\") == \"2013\")\n",
    "\n",
    "\n",
    "ordersDataset.show()"
   ]
  }
 ],
 "metadata": {
  "kernelspec": {
   "display_name": "pr-venv",
   "language": "python",
   "name": "python3"
  },
  "language_info": {
   "codemirror_mode": {
    "name": "ipython",
    "version": 3
   },
   "file_extension": ".py",
   "mimetype": "text/x-python",
   "name": "python",
   "nbconvert_exporter": "python",
   "pygments_lexer": "ipython3",
   "version": "3.13.1"
  }
 },
 "nbformat": 4,
 "nbformat_minor": 5
}
