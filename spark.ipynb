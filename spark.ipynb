{
 "cells": [
  {
   "cell_type": "code",
   "execution_count": 144,
   "id": "7167275e",
   "metadata": {},
   "outputs": [],
   "source": [
    "import findspark\n",
    "findspark.init()\n",
    "\n",
    "from pyspark.sql import SparkSession\n",
    "from pyspark.sql.functions import *\n",
    "\n",
    "spark = SparkSession.builder \\\n",
    "    .appName(\"MyApp\") \\\n",
    "    .master(\"local\") \\\n",
    "    .getOrCreate()\n"
   ]
  },
  {
   "cell_type": "code",
   "execution_count": 145,
   "id": "a971b853",
   "metadata": {},
   "outputs": [],
   "source": [
    "##Get the schemas\n",
    "\n",
    "import json\n",
    "\n",
    "file_path = 'data/retail_db/schemas.json'\n",
    "schemas = json.load(open(file_path))"
   ]
  },
  {
   "cell_type": "code",
   "execution_count": 146,
   "id": "e321910d",
   "metadata": {},
   "outputs": [],
   "source": [
    "## Function to get the columnNames\n",
    "\n",
    "def get_column_names(schemas, dsName):\n",
    "    column_details = schemas[dsName]\n",
    "    sorted_column = sorted(column_details, key= lambda col : col['column_position'])\n",
    "    return [column['column_name'] for column in sorted_column]"
   ]
  },
  {
   "cell_type": "code",
   "execution_count": 147,
   "id": "45d042fe",
   "metadata": {},
   "outputs": [],
   "source": [
    "## Define Column Schema\n",
    "\n",
    "customers_column =get_column_names(schemas,'customers')\n",
    "order_colum = get_column_names(schemas,'orders')\n",
    "order_item_column = get_column_names(schemas,'order_items')"
   ]
  },
  {
   "cell_type": "code",
   "execution_count": 148,
   "id": "c2c2914b",
   "metadata": {},
   "outputs": [],
   "source": [
    "### Read the sources\n",
    "\n",
    "##customer\n",
    "customerDataset = spark.read.option('header','false').csv('data/retail_db/customers/').toDF(*customers_column)\n",
    "##orders\n",
    "ordersDataset = spark.read.option('header','false').csv('data/retail_db/orders/').toDF(*order_colum)\n",
    "#order_items\n",
    "orderItemDataset = spark.read.option('header','false').csv('data/retail_db/order_items/').toDF(*order_item_column)\n"
   ]
  },
  {
   "cell_type": "code",
   "execution_count": 149,
   "id": "3c43ca33",
   "metadata": {},
   "outputs": [],
   "source": [
    "#Process Order Data Set\n",
    "##Filter 2023 Order and convert the order_date to date.\n",
    "ordersDataset = ordersDataset.withColumn(\"year_date\", year(to_date(\"order_date\"))) \\\n",
    "                             .filter((col(\"year_date\") == \"2013\") & (col(\"order_status\") == \"COMPLETE\")).\\\n",
    "                             select(\n",
    "                                 col(\"order_id\"),\n",
    "                                 to_date(col(\"order_date\")).alias(\"order_date\"),\n",
    "                                 col(\"order_customer_id\"),\n",
    "                                 col(\"order_status\")\n",
    "                             )"
   ]
  },
  {
   "cell_type": "code",
   "execution_count": 150,
   "id": "511cba88",
   "metadata": {},
   "outputs": [],
   "source": [
    "#Process Customer Dataset\n",
    "customerDataset = customerDataset.withColumn(\"customer_name\",\n",
    "                                              concat_ws(\" \",col(\"customer_fname\"),col(\"customer_lname\"))).withColumn(\"address\",\n",
    "                                                                                                                     concat_ws(\",\",col(\"customer_street\"), col(\"customer_city\"),col(\"customer_state\"), col(\"customer_zipcode\")))\\\n",
    ".select(\n",
    "    col(\"customer_id\"),\n",
    "    col(\"customer_name\"),\n",
    "    col(\"address\")\n",
    ")"
   ]
  },
  {
   "cell_type": "code",
   "execution_count": 151,
   "id": "599b904f",
   "metadata": {},
   "outputs": [],
   "source": [
    "##Process Order Item\n",
    "orderItemDataset_agg = orderItemDataset.groupBy(col(\"order_item_order_id\"))\\\n",
    "    .agg(\n",
    "        sum(expr(\"order_item_subtotal * order_item_quantity\")).alias(\"sub_total\")\n",
    "    ).withColumn(\"totalPrice\",round(col(\"sub_total\"),2))\\\n",
    "        .select(\n",
    "        col(\"order_item_order_id\"),\n",
    "        col(\"totalPrice\")\n",
    "        )\n",
    "\n"
   ]
  },
  {
   "cell_type": "code",
   "execution_count": 152,
   "id": "bd6c6243",
   "metadata": {},
   "outputs": [],
   "source": [
    "##Create maindataset\n",
    "##join customer, order \n",
    "customerOrder = customerDataset.join(ordersDataset, \n",
    "                     customerDataset[\"customer_id\"] == ordersDataset[\"order_customer_id\"], \"inner\")\n",
    "\n",
    "## Join customerOrder and orderItemDataset_agg\n",
    "mainDataset = customerOrder.join(orderItemDataset_agg,\n",
    "                                  customerOrder[\"order_id\"] == orderItemDataset_agg[\"order_item_order_id\"], \"inner\")"
   ]
  },
  {
   "cell_type": "code",
   "execution_count": 155,
   "id": "2e4d35a5",
   "metadata": {},
   "outputs": [],
   "source": [
    "finalDataSet = mainDataset.groupBy(col(\"customer_id\")\n",
    "                                   ,col(\"customer_name\")\n",
    "                                   ,col(\"address\")\n",
    "                                   ,col(\"order_status\")\n",
    "                                   )\\\n",
    ".agg(round(sum(col(\"totalPrice\")),2).alias(\"totalAmount\")\n",
    "     ).select(\n",
    "        col(\"customer_id\")\n",
    "        ,col(\"customer_name\")\n",
    "        ,col(\"address\")\n",
    "        ,col(\"order_status\")\n",
    "        ,col(\"totalAmount\")\n",
    "     )"
   ]
  },
  {
   "cell_type": "code",
   "execution_count": 156,
   "id": "5ce5c41a",
   "metadata": {},
   "outputs": [
    {
     "name": "stdout",
     "output_type": "stream",
     "text": [
      "+-----------+---------------+-------------------------------------------+------------+-----------+\n",
      "|customer_id|customer_name  |address                                    |order_status|totalAmount|\n",
      "+-----------+---------------+-------------------------------------------+------------+-----------+\n",
      "|993        |Mary Davis     |1202 Quaking Embers Link,Fairfield,OH,45014|COMPLETE    |859.88     |\n",
      "|8716       |Evelyn Smith   |1260 Stony Village,Caguas,PR,00725         |COMPLETE    |2139.86    |\n",
      "|4750       |Mary Smith     |9406 Old Lagoon Canyon,Martinsburg,WV,25401|COMPLETE    |2759.81    |\n",
      "|5790       |Mary Young     |4174 Dewy Pioneer Court,Fremont,CA,94536   |COMPLETE    |2169.52    |\n",
      "|4065       |Mary Mccullough|7284 Hidden Elk Forest,Caguas,PR,00725     |COMPLETE    |1389.72    |\n",
      "|5830       |Mary Walker    |5012 Tawny Brook Vale,Caguas,PR,00725      |COMPLETE    |199.99     |\n",
      "|4251       |Mary Serrano   |9714 Quaking Elk Green,Caguas,PR,00725     |COMPLETE    |1189.98    |\n",
      "|9189       |Richard Smith  |8310 Broad Centre,Caguas,PR,00725          |COMPLETE    |299.98     |\n",
      "|9048       |Mary Smith     |1027 Green Autoroute,Stockton,CA,95207     |COMPLETE    |1249.96    |\n",
      "|2463       |Mary Smith     |7844 Rocky Deer Avenue,Sheboygan,WI,53081  |COMPLETE    |1759.72    |\n",
      "+-----------+---------------+-------------------------------------------+------------+-----------+\n",
      "only showing top 10 rows\n",
      "\n"
     ]
    }
   ],
   "source": [
    "finalDataSet.show(10,truncate=False)"
   ]
  },
  {
   "cell_type": "code",
   "execution_count": null,
   "id": "2895dd6e",
   "metadata": {},
   "outputs": [],
   "source": []
  }
 ],
 "metadata": {
  "kernelspec": {
   "display_name": "pr-venv",
   "language": "python",
   "name": "python3"
  },
  "language_info": {
   "codemirror_mode": {
    "name": "ipython",
    "version": 3
   },
   "file_extension": ".py",
   "mimetype": "text/x-python",
   "name": "python",
   "nbconvert_exporter": "python",
   "pygments_lexer": "ipython3",
   "version": "3.13.1"
  }
 },
 "nbformat": 4,
 "nbformat_minor": 5
}
