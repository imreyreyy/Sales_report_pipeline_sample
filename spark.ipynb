{
 "cells": [
  {
   "cell_type": "code",
   "execution_count": 3,
   "id": "7167275e",
   "metadata": {},
   "outputs": [],
   "source": [
    "import findspark\n",
    "findspark.init()\n",
    "\n",
    "from pyspark.sql import SparkSession\n",
    "\n",
    "spark = SparkSession.builder \\\n",
    "    .appName(\"MyApp\") \\\n",
    "    .master(\"local\") \\\n",
    "    .getOrCreate()\n"
   ]
  },
  {
   "cell_type": "code",
   "execution_count": null,
   "id": "52fa2cd4",
   "metadata": {},
   "outputs": [
    {
     "name": "stdout",
     "output_type": "stream",
     "text": [
      "+-----------+------------------+--------------------+----------+-----------------+\n",
      "|customer_id|              Name|             Address|last_order|       total_sale|\n",
      "+-----------+------------------+--------------------+----------+-----------------+\n",
      "|       9337|        Mary Smith|5687 Lazy Parade,...|2014-07-20|          6585.33|\n",
      "|       3710|      Ashley Smith|1564 Gentle Jetty...|2014-04-29|           6169.4|\n",
      "|      10744|    Samantha Smith|5129 Indian Maze,...|2014-06-06|           5799.5|\n",
      "|        749|    Jesse Matthews|529 Cotton Branch...|2014-07-06|5759.540000000001|\n",
      "|       5411|      Robert Crane|7723 Lazy Mount,A...|2014-07-07|          5174.56|\n",
      "|       8314|      Angela Walsh|9922 Round Forest...|2014-05-05|5169.450000000001|\n",
      "|        173|        Jose Smith|3493 High Apple W...|2014-01-10|5149.370000000001|\n",
      "|       5186|    Jason Robinson|1965 Shady Robin ...|2014-07-20|          5113.57|\n",
      "|       7802|      Mary Acevedo|7179 Amber Cider ...|2014-06-25|          4904.45|\n",
      "|       8290| Benjamin Jennings|1711 Sunny Quay,S...|2014-07-13|          4754.37|\n",
      "|       3957|      Thomas Smith|1110 Merry Trace,...|2014-06-13|          4729.41|\n",
      "|       8766|       Mary Duncan|1011 Iron Pioneer...|2014-02-25|           4629.6|\n",
      "|       1636|    Julie Petersen|9375 Harvest Circ...|2014-04-17|          4629.41|\n",
      "|       6303|        Mary Smith|7231 Red Farms,El...|2014-07-21|          4619.45|\n",
      "|      10803|       Laura Carey|3202 Lazy Maze,Sa...|2014-04-01|           4614.6|\n",
      "|       9875|Christian Calderon|3123 Clear Zephyr...|2014-07-20|4569.530000000001|\n",
      "|      12189|      Judith Hicks|1666 Sunny View,A...|2014-07-20|          4569.51|\n",
      "|       3180|     Raymond Smith|8193 Grand Court,...|2014-05-07|4563.389999999999|\n",
      "|       6025|        Mary Smith|8734 Dewy Express...|2014-06-17|4514.360000000001|\n",
      "|       9962|       Diana Smith|1475 Red Creek St...|2014-06-07|4509.610000000001|\n",
      "+-----------+------------------+--------------------+----------+-----------------+\n",
      "only showing top 20 rows\n",
      "\n"
     ]
    }
   ],
   "source": [
    "df = spark.read.option('header', 'true').csv('data/customer_orders_report.csv')\n",
    "df.show()"
   ]
  }
 ],
 "metadata": {
  "kernelspec": {
   "display_name": "pr-venv",
   "language": "python",
   "name": "python3"
  },
  "language_info": {
   "codemirror_mode": {
    "name": "ipython",
    "version": 3
   },
   "file_extension": ".py",
   "mimetype": "text/x-python",
   "name": "python",
   "nbconvert_exporter": "python",
   "pygments_lexer": "ipython3",
   "version": "3.13.1"
  }
 },
 "nbformat": 4,
 "nbformat_minor": 5
}
